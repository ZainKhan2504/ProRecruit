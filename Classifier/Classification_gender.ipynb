{
 "cells": [
  {
   "cell_type": "code",
   "execution_count": 9,
   "metadata": {},
   "outputs": [
    {
     "name": "stdout",
     "output_type": "stream",
     "text": [
      "['.Net developer']\n"
     ]
    }
   ],
   "source": [
    "from sklearn import tree\n",
    "classification = tree.DecisionTreeClassifier()\n",
    "\n",
    "x = [22,10,10, 3, 4],  [42,16,10, 3, 4],[42,10,40, 3, 4]\n",
    "#      [190, 90, 47], [175, 64, 39],\n",
    "#      [177, 70, 40], [159, 55, 37], [171, 75, 42], [181, 85, 43]]\n",
    "\n",
    "y = ['.Net developer', 'Data Scientist', 'Pytho developer']\n",
    "\n",
    "\n",
    "classification = classification.fit(x,y)\n",
    "\n",
    "predict_mine = classification.predict([[22,10,10, 3, 4]])\n",
    "\n",
    "print(predict_mine)\n",
    "\n"
   ]
  },
  {
   "cell_type": "code",
   "execution_count": null,
   "metadata": {
    "collapsed": true
   },
   "outputs": [],
   "source": []
  },
  {
   "cell_type": "code",
   "execution_count": null,
   "metadata": {
    "collapsed": true
   },
   "outputs": [],
   "source": []
  }
 ],
 "metadata": {
  "kernelspec": {
   "display_name": "Python 3",
   "language": "python",
   "name": "python3"
  },
  "language_info": {
   "codemirror_mode": {
    "name": "ipython",
    "version": 3
   },
   "file_extension": ".py",
   "mimetype": "text/x-python",
   "name": "python",
   "nbconvert_exporter": "python",
   "pygments_lexer": "ipython3",
   "version": "3.6.3"
  }
 },
 "nbformat": 4,
 "nbformat_minor": 2
}
